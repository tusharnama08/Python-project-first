{
 "cells": [
  {
   "cell_type": "code",
   "execution_count": null,
   "id": "f3c9bc17-8560-45d0-be3f-fb7893304a20",
   "metadata": {},
   "outputs": [
    {
     "name": "stdout",
     "output_type": "stream",
     "text": [
      "wellcom to the ILP circket tournament\n",
      "normal_seat price: 200\n",
      "royal_seat price: 300\n"
     ]
    },
    {
     "name": "stdin",
     "output_type": "stream",
     "text": [
      "enter your name: jkhg\n",
      "enter your number: 8756\n",
      " which type of seat do you want normal/royal normal\n",
      "how many normal seat do you want? 4\n"
     ]
    },
    {
     "name": "stdout",
     "output_type": "stream",
     "text": [
      "cost of normal seat 800\n",
      "total normal seat left 146\n"
     ]
    },
    {
     "name": "stdin",
     "output_type": "stream",
     "text": [
      "do you want to add combo? yes\n"
     ]
    },
    {
     "name": "stdout",
     "output_type": "stream",
     "text": [
      " press 1 for a combo of 200\n",
      "           press 2 for a combo of 300\n",
      "           press 3 for a combo of 400\n",
      "           press 4 for a combo of 500\n"
     ]
    },
    {
     "name": "stdin",
     "output_type": "stream",
     "text": [
      " your choice: 2\n",
      "do you want to more normal/royal seat (yes/no): no\n"
     ]
    },
    {
     "name": "stdout",
     "output_type": "stream",
     "text": [
      "------------------------------------------------------------\n",
      "coutomer's name jkhg\n",
      "coutomer's phone number 8756\n",
      "total_cost 1300\n"
     ]
    }
   ],
   "source": [
    "total_seat=200\n",
    "normal_seat_left=150\n",
    "royal_seat_left=50\n",
    "normal_seats_cost=200\n",
    "royal_seats_cost=300\n",
    "cost_norml=0\n",
    "cost_royal=0\n",
    "total=0\n",
    "while True:\n",
    "    amount= 0\n",
    "    print(\"wellcom to the ILP circket tournament\")\n",
    "    print(\"normal_seat price: 200\")\n",
    "    print(\"royal_seat price: 300\")\n",
    "    name=input(\"enter your name:\")\n",
    "    phone_no = int(input(\"enter your number:\"))\n",
    "    choice=input(\" which type of seat do you want normal/royal\")\n",
    "    while True:\n",
    "        if choice== \"normal\":\n",
    "            choose=int(input(\"how many normal seat do you want?\"))\n",
    "            if choose<=normal_seat_left:\n",
    "                cost_normal=choose*normal_seats_cost\n",
    "                normal_seat_left-=choose\n",
    "                print(\"cost of normal seat\",cost_normal)\n",
    "                print(\"total normal seat left\", normal_seat_left)\n",
    "                break\n",
    "            else:\n",
    "                print(\"royal seat is not availabel\")\n",
    "                break\n",
    "\n",
    "            if choice==\"royal\":\n",
    "                choose=int(input(\"how namy royal seat do you want?\"))\n",
    "                if choose<=royal_seat_lesf:\n",
    "                    cost_royal=choose*royal_seats_cost\n",
    "                    royal_seat_left-=choose\n",
    "                    print(\"cost of royal_seat\" ,cost_royal)\n",
    "                    print(\"total royal seat left\", royal_seat_left)\n",
    "                    break\n",
    "            else:\n",
    "                print(\"normal seat is not availabal\")\n",
    "                break\n",
    "                \n",
    "    while True:\n",
    "        \n",
    "        combo= input(\"do you want to add combo?\")\n",
    "        if combo== \"yes\":\n",
    "            print(\"\"\" press 1 for a combo of 200\n",
    "           press 2 for a combo of 300\n",
    "           press 3 for a combo of 400\n",
    "           press 4 for a combo of 500\"\"\")\n",
    "        choice =int(input(\" your choice:\"))\n",
    "        if combo ==1:\n",
    "            print +=200\n",
    "        elif combo==2:\n",
    "            print +=300\n",
    "        elif combo ==3:\n",
    "            print+=400\n",
    "        else:\n",
    "            amount +=500\n",
    "        repeat= input(\"do you want to more normal/royal seat (yes/no):\")\n",
    "        if  repeat==\"no\" or repeat ==\"no\" or repeat == \"no\":\n",
    "              break\n",
    "\n",
    "\n",
    "    print(\"-\"*60)\n",
    "    print(\"coutomer's name\",name)\n",
    "    print(\"coutomer's phone number\",phone_no)\n",
    "    total+= cost_normal + cost_royal + amount\n",
    "    print(\"total_cost\",total)\n",
    "    repeat_costomer =input(\"next costomer pleass?\")\n",
    "    if  repeat_costomer==\"no\" or repeat_costomer ==\"no\" or repeat_costomer == \"no\":\n",
    "        break"
   ]
  },
  {
   "cell_type": "code",
   "execution_count": null,
   "id": "47434151-a7f6-4226-a50e-84be59f0eb9d",
   "metadata": {},
   "outputs": [],
   "source": []
  }
 ],
 "metadata": {
  "kernelspec": {
   "display_name": "Python 3 (ipykernel)",
   "language": "python",
   "name": "python3"
  },
  "language_info": {
   "codemirror_mode": {
    "name": "ipython",
    "version": 3
   },
   "file_extension": ".py",
   "mimetype": "text/x-python",
   "name": "python",
   "nbconvert_exporter": "python",
   "pygments_lexer": "ipython3",
   "version": "3.11.6"
  }
 },
 "nbformat": 4,
 "nbformat_minor": 5
}
